{
 "cells": [
  {
   "cell_type": "markdown",
   "id": "60f3fd07",
   "metadata": {},
   "source": [
    "## CASE :-\n",
    "\n",
    "### We are going to predict whether a credit card transaction is ( Legal ) or Fraud."
   ]
  },
  {
   "cell_type": "markdown",
   "id": "70747c18",
   "metadata": {},
   "source": [
    "#### WORK PROCESS :- \n",
    "\n",
    "- Credit card data\n",
    "- Data Pre Processing\n",
    "- Data Analysis\n",
    "- Train Test Split\n",
    "- Logistic Regression Model\n",
    "- Model Evaluation\n",
    "- Predictive System"
   ]
  },
  {
   "cell_type": "code",
   "execution_count": 1,
   "id": "3c7df08e",
   "metadata": {},
   "outputs": [],
   "source": [
    "## Importing the necessary libraries\n",
    "\n",
    "import pandas as pd\n",
    "import numpy as np\n",
    "from sklearn.model_selection import train_test_split\n",
    "from sklearn.linear_model import LogisticRegression\n",
    "from sklearn.metrics import accuracy_score\n",
    "import warnings\n",
    "warnings.filterwarnings('ignore')"
   ]
  },
  {
   "cell_type": "code",
   "execution_count": 2,
   "id": "d73652bb",
   "metadata": {},
   "outputs": [
    {
     "data": {
      "text/html": [
       "<div>\n",
       "<style scoped>\n",
       "    .dataframe tbody tr th:only-of-type {\n",
       "        vertical-align: middle;\n",
       "    }\n",
       "\n",
       "    .dataframe tbody tr th {\n",
       "        vertical-align: top;\n",
       "    }\n",
       "\n",
       "    .dataframe thead th {\n",
       "        text-align: right;\n",
       "    }\n",
       "</style>\n",
       "<table border=\"1\" class=\"dataframe\">\n",
       "  <thead>\n",
       "    <tr style=\"text-align: right;\">\n",
       "      <th></th>\n",
       "      <th>Time</th>\n",
       "      <th>V1</th>\n",
       "      <th>V2</th>\n",
       "      <th>V3</th>\n",
       "      <th>V4</th>\n",
       "      <th>V5</th>\n",
       "      <th>V6</th>\n",
       "      <th>V7</th>\n",
       "      <th>V8</th>\n",
       "      <th>V9</th>\n",
       "      <th>...</th>\n",
       "      <th>V21</th>\n",
       "      <th>V22</th>\n",
       "      <th>V23</th>\n",
       "      <th>V24</th>\n",
       "      <th>V25</th>\n",
       "      <th>V26</th>\n",
       "      <th>V27</th>\n",
       "      <th>V28</th>\n",
       "      <th>Amount</th>\n",
       "      <th>Class</th>\n",
       "    </tr>\n",
       "  </thead>\n",
       "  <tbody>\n",
       "    <tr>\n",
       "      <th>0</th>\n",
       "      <td>0</td>\n",
       "      <td>-1.359807</td>\n",
       "      <td>-0.072781</td>\n",
       "      <td>2.536347</td>\n",
       "      <td>1.378155</td>\n",
       "      <td>-0.338321</td>\n",
       "      <td>0.462388</td>\n",
       "      <td>0.239599</td>\n",
       "      <td>0.098698</td>\n",
       "      <td>0.363787</td>\n",
       "      <td>...</td>\n",
       "      <td>-0.018307</td>\n",
       "      <td>0.277838</td>\n",
       "      <td>-0.110474</td>\n",
       "      <td>0.066928</td>\n",
       "      <td>0.128539</td>\n",
       "      <td>-0.189115</td>\n",
       "      <td>0.133558</td>\n",
       "      <td>-0.021053</td>\n",
       "      <td>149.62</td>\n",
       "      <td>0</td>\n",
       "    </tr>\n",
       "    <tr>\n",
       "      <th>1</th>\n",
       "      <td>0</td>\n",
       "      <td>1.191857</td>\n",
       "      <td>0.266151</td>\n",
       "      <td>0.166480</td>\n",
       "      <td>0.448154</td>\n",
       "      <td>0.060018</td>\n",
       "      <td>-0.082361</td>\n",
       "      <td>-0.078803</td>\n",
       "      <td>0.085102</td>\n",
       "      <td>-0.255425</td>\n",
       "      <td>...</td>\n",
       "      <td>-0.225775</td>\n",
       "      <td>-0.638672</td>\n",
       "      <td>0.101288</td>\n",
       "      <td>-0.339846</td>\n",
       "      <td>0.167170</td>\n",
       "      <td>0.125895</td>\n",
       "      <td>-0.008983</td>\n",
       "      <td>0.014724</td>\n",
       "      <td>2.69</td>\n",
       "      <td>0</td>\n",
       "    </tr>\n",
       "    <tr>\n",
       "      <th>2</th>\n",
       "      <td>1</td>\n",
       "      <td>-1.358354</td>\n",
       "      <td>-1.340163</td>\n",
       "      <td>1.773209</td>\n",
       "      <td>0.379780</td>\n",
       "      <td>-0.503198</td>\n",
       "      <td>1.800499</td>\n",
       "      <td>0.791461</td>\n",
       "      <td>0.247676</td>\n",
       "      <td>-1.514654</td>\n",
       "      <td>...</td>\n",
       "      <td>0.247998</td>\n",
       "      <td>0.771679</td>\n",
       "      <td>0.909412</td>\n",
       "      <td>-0.689281</td>\n",
       "      <td>-0.327642</td>\n",
       "      <td>-0.139097</td>\n",
       "      <td>-0.055353</td>\n",
       "      <td>-0.059752</td>\n",
       "      <td>378.66</td>\n",
       "      <td>0</td>\n",
       "    </tr>\n",
       "    <tr>\n",
       "      <th>3</th>\n",
       "      <td>1</td>\n",
       "      <td>-0.966272</td>\n",
       "      <td>-0.185226</td>\n",
       "      <td>1.792993</td>\n",
       "      <td>-0.863291</td>\n",
       "      <td>-0.010309</td>\n",
       "      <td>1.247203</td>\n",
       "      <td>0.237609</td>\n",
       "      <td>0.377436</td>\n",
       "      <td>-1.387024</td>\n",
       "      <td>...</td>\n",
       "      <td>-0.108300</td>\n",
       "      <td>0.005274</td>\n",
       "      <td>-0.190321</td>\n",
       "      <td>-1.175575</td>\n",
       "      <td>0.647376</td>\n",
       "      <td>-0.221929</td>\n",
       "      <td>0.062723</td>\n",
       "      <td>0.061458</td>\n",
       "      <td>123.50</td>\n",
       "      <td>0</td>\n",
       "    </tr>\n",
       "    <tr>\n",
       "      <th>4</th>\n",
       "      <td>2</td>\n",
       "      <td>-1.158233</td>\n",
       "      <td>0.877737</td>\n",
       "      <td>1.548718</td>\n",
       "      <td>0.403034</td>\n",
       "      <td>-0.407193</td>\n",
       "      <td>0.095921</td>\n",
       "      <td>0.592941</td>\n",
       "      <td>-0.270533</td>\n",
       "      <td>0.817739</td>\n",
       "      <td>...</td>\n",
       "      <td>-0.009431</td>\n",
       "      <td>0.798278</td>\n",
       "      <td>-0.137458</td>\n",
       "      <td>0.141267</td>\n",
       "      <td>-0.206010</td>\n",
       "      <td>0.502292</td>\n",
       "      <td>0.219422</td>\n",
       "      <td>0.215153</td>\n",
       "      <td>69.99</td>\n",
       "      <td>0</td>\n",
       "    </tr>\n",
       "  </tbody>\n",
       "</table>\n",
       "<p>5 rows × 31 columns</p>\n",
       "</div>"
      ],
      "text/plain": [
       "   Time        V1        V2        V3        V4        V5        V6        V7  \\\n",
       "0     0 -1.359807 -0.072781  2.536347  1.378155 -0.338321  0.462388  0.239599   \n",
       "1     0  1.191857  0.266151  0.166480  0.448154  0.060018 -0.082361 -0.078803   \n",
       "2     1 -1.358354 -1.340163  1.773209  0.379780 -0.503198  1.800499  0.791461   \n",
       "3     1 -0.966272 -0.185226  1.792993 -0.863291 -0.010309  1.247203  0.237609   \n",
       "4     2 -1.158233  0.877737  1.548718  0.403034 -0.407193  0.095921  0.592941   \n",
       "\n",
       "         V8        V9  ...       V21       V22       V23       V24       V25  \\\n",
       "0  0.098698  0.363787  ... -0.018307  0.277838 -0.110474  0.066928  0.128539   \n",
       "1  0.085102 -0.255425  ... -0.225775 -0.638672  0.101288 -0.339846  0.167170   \n",
       "2  0.247676 -1.514654  ...  0.247998  0.771679  0.909412 -0.689281 -0.327642   \n",
       "3  0.377436 -1.387024  ... -0.108300  0.005274 -0.190321 -1.175575  0.647376   \n",
       "4 -0.270533  0.817739  ... -0.009431  0.798278 -0.137458  0.141267 -0.206010   \n",
       "\n",
       "        V26       V27       V28  Amount  Class  \n",
       "0 -0.189115  0.133558 -0.021053  149.62      0  \n",
       "1  0.125895 -0.008983  0.014724    2.69      0  \n",
       "2 -0.139097 -0.055353 -0.059752  378.66      0  \n",
       "3 -0.221929  0.062723  0.061458  123.50      0  \n",
       "4  0.502292  0.219422  0.215153   69.99      0  \n",
       "\n",
       "[5 rows x 31 columns]"
      ]
     },
     "execution_count": 2,
     "metadata": {},
     "output_type": "execute_result"
    }
   ],
   "source": [
    "## Importing the dataset\n",
    "\n",
    "data = pd.read_csv(\"Credit Card.csv\")\n",
    "data.head()"
   ]
  },
  {
   "cell_type": "code",
   "execution_count": 3,
   "id": "839dde8e",
   "metadata": {},
   "outputs": [
    {
     "name": "stdout",
     "output_type": "stream",
     "text": [
      "<class 'pandas.core.frame.DataFrame'>\n",
      "RangeIndex: 1175 entries, 0 to 1174\n",
      "Data columns (total 31 columns):\n",
      " #   Column  Non-Null Count  Dtype  \n",
      "---  ------  --------------  -----  \n",
      " 0   Time    1175 non-null   int64  \n",
      " 1   V1      1175 non-null   float64\n",
      " 2   V2      1175 non-null   float64\n",
      " 3   V3      1175 non-null   float64\n",
      " 4   V4      1175 non-null   float64\n",
      " 5   V5      1175 non-null   float64\n",
      " 6   V6      1175 non-null   float64\n",
      " 7   V7      1175 non-null   float64\n",
      " 8   V8      1175 non-null   float64\n",
      " 9   V9      1175 non-null   float64\n",
      " 10  V10     1175 non-null   float64\n",
      " 11  V11     1175 non-null   float64\n",
      " 12  V12     1175 non-null   float64\n",
      " 13  V13     1175 non-null   float64\n",
      " 14  V14     1175 non-null   float64\n",
      " 15  V15     1175 non-null   float64\n",
      " 16  V16     1175 non-null   float64\n",
      " 17  V17     1175 non-null   float64\n",
      " 18  V18     1175 non-null   float64\n",
      " 19  V19     1175 non-null   float64\n",
      " 20  V20     1175 non-null   float64\n",
      " 21  V21     1175 non-null   float64\n",
      " 22  V22     1175 non-null   float64\n",
      " 23  V23     1175 non-null   float64\n",
      " 24  V24     1175 non-null   float64\n",
      " 25  V25     1175 non-null   float64\n",
      " 26  V26     1175 non-null   float64\n",
      " 27  V27     1175 non-null   float64\n",
      " 28  V28     1175 non-null   float64\n",
      " 29  Amount  1175 non-null   float64\n",
      " 30  Class   1175 non-null   int64  \n",
      "dtypes: float64(29), int64(2)\n",
      "memory usage: 284.7 KB\n"
     ]
    }
   ],
   "source": [
    "## Data information\n",
    "\n",
    "data.info()"
   ]
  },
  {
   "cell_type": "code",
   "execution_count": 4,
   "id": "eb9e1c40",
   "metadata": {},
   "outputs": [
    {
     "data": {
      "text/plain": [
       "0"
      ]
     },
     "execution_count": 4,
     "metadata": {},
     "output_type": "execute_result"
    }
   ],
   "source": [
    "## Checking missing values in each column\n",
    "data.isnull().sum().sum()"
   ]
  },
  {
   "cell_type": "code",
   "execution_count": 5,
   "id": "33e9bb40",
   "metadata": {},
   "outputs": [
    {
     "data": {
      "text/plain": [
       "0    1173\n",
       "1       2\n",
       "Name: Class, dtype: int64"
      ]
     },
     "execution_count": 5,
     "metadata": {},
     "output_type": "execute_result"
    }
   ],
   "source": [
    "## Checking distribution of class column\n",
    "\n",
    "data['Class'].value_counts()"
   ]
  },
  {
   "cell_type": "markdown",
   "id": "69c65063",
   "metadata": {},
   "source": [
    "#### This is highly imbalanced data set :-"
   ]
  },
  {
   "cell_type": "markdown",
   "id": "fa3605ff",
   "metadata": {},
   "source": [
    "- 0 --> Legit Transaction\n",
    "\n",
    "- 1 --> Fraudulent Transaction"
   ]
  },
  {
   "cell_type": "code",
   "execution_count": 6,
   "id": "bd0706f2",
   "metadata": {},
   "outputs": [],
   "source": [
    "## Separating the data for analysis\n",
    "\n",
    "legit = data[data.Class == 0]\n",
    "fraud = data[data.Class == 1]"
   ]
  },
  {
   "cell_type": "code",
   "execution_count": 7,
   "id": "2fb844d4",
   "metadata": {},
   "outputs": [
    {
     "name": "stdout",
     "output_type": "stream",
     "text": [
      "(1173, 31)\n",
      "(2, 31)\n"
     ]
    }
   ],
   "source": [
    "## Checking the shape of the DataSet\n",
    "print(legit.shape)\n",
    "print(fraud.shape)"
   ]
  },
  {
   "cell_type": "code",
   "execution_count": 8,
   "id": "85a4c7e1",
   "metadata": {},
   "outputs": [
    {
     "data": {
      "text/plain": [
       "count    1173.000000\n",
       "mean       65.064510\n",
       "std       181.271328\n",
       "min         0.000000\n",
       "25%         5.310000\n",
       "50%        15.380000\n",
       "75%        55.450000\n",
       "max      3828.040000\n",
       "Name: Amount, dtype: float64"
      ]
     },
     "execution_count": 8,
     "metadata": {},
     "output_type": "execute_result"
    }
   ],
   "source": [
    "## Statistical measure of data\n",
    "## Checking the Description  of the DataSet for Legit Transactions\n",
    "\n",
    "legit.Amount.describe()"
   ]
  },
  {
   "cell_type": "code",
   "execution_count": 9,
   "id": "32b664e7",
   "metadata": {},
   "outputs": [
    {
     "data": {
      "text/plain": [
       "count      2.000000\n",
       "mean     264.500000\n",
       "std      374.059487\n",
       "min        0.000000\n",
       "25%      132.250000\n",
       "50%      264.500000\n",
       "75%      396.750000\n",
       "max      529.000000\n",
       "Name: Amount, dtype: float64"
      ]
     },
     "execution_count": 9,
     "metadata": {},
     "output_type": "execute_result"
    }
   ],
   "source": [
    "## Statistical measure of data\n",
    "## Checking the Description  of the DataSet for Fraudalent Transactions\n",
    "\n",
    "fraud.Amount.describe()"
   ]
  },
  {
   "cell_type": "code",
   "execution_count": 10,
   "id": "e045546f",
   "metadata": {},
   "outputs": [
    {
     "data": {
      "text/html": [
       "<div>\n",
       "<style scoped>\n",
       "    .dataframe tbody tr th:only-of-type {\n",
       "        vertical-align: middle;\n",
       "    }\n",
       "\n",
       "    .dataframe tbody tr th {\n",
       "        vertical-align: top;\n",
       "    }\n",
       "\n",
       "    .dataframe thead th {\n",
       "        text-align: right;\n",
       "    }\n",
       "</style>\n",
       "<table border=\"1\" class=\"dataframe\">\n",
       "  <thead>\n",
       "    <tr style=\"text-align: right;\">\n",
       "      <th></th>\n",
       "      <th>Time</th>\n",
       "      <th>V1</th>\n",
       "      <th>V2</th>\n",
       "      <th>V3</th>\n",
       "      <th>V4</th>\n",
       "      <th>V5</th>\n",
       "      <th>V6</th>\n",
       "      <th>V7</th>\n",
       "      <th>V8</th>\n",
       "      <th>V9</th>\n",
       "      <th>...</th>\n",
       "      <th>V20</th>\n",
       "      <th>V21</th>\n",
       "      <th>V22</th>\n",
       "      <th>V23</th>\n",
       "      <th>V24</th>\n",
       "      <th>V25</th>\n",
       "      <th>V26</th>\n",
       "      <th>V27</th>\n",
       "      <th>V28</th>\n",
       "      <th>Amount</th>\n",
       "    </tr>\n",
       "    <tr>\n",
       "      <th>Class</th>\n",
       "      <th></th>\n",
       "      <th></th>\n",
       "      <th></th>\n",
       "      <th></th>\n",
       "      <th></th>\n",
       "      <th></th>\n",
       "      <th></th>\n",
       "      <th></th>\n",
       "      <th></th>\n",
       "      <th></th>\n",
       "      <th></th>\n",
       "      <th></th>\n",
       "      <th></th>\n",
       "      <th></th>\n",
       "      <th></th>\n",
       "      <th></th>\n",
       "      <th></th>\n",
       "      <th></th>\n",
       "      <th></th>\n",
       "      <th></th>\n",
       "      <th></th>\n",
       "    </tr>\n",
       "  </thead>\n",
       "  <tbody>\n",
       "    <tr>\n",
       "      <th>0</th>\n",
       "      <td>440.514919</td>\n",
       "      <td>-0.191290</td>\n",
       "      <td>0.240299</td>\n",
       "      <td>0.879805</td>\n",
       "      <td>0.245752</td>\n",
       "      <td>-0.028989</td>\n",
       "      <td>0.127834</td>\n",
       "      <td>0.105288</td>\n",
       "      <td>-0.070509</td>\n",
       "      <td>0.005240</td>\n",
       "      <td>...</td>\n",
       "      <td>0.063227</td>\n",
       "      <td>-0.005717</td>\n",
       "      <td>-0.120199</td>\n",
       "      <td>-0.046657</td>\n",
       "      <td>0.004919</td>\n",
       "      <td>0.116965</td>\n",
       "      <td>0.029516</td>\n",
       "      <td>0.014069</td>\n",
       "      <td>-0.015882</td>\n",
       "      <td>65.06451</td>\n",
       "    </tr>\n",
       "    <tr>\n",
       "      <th>1</th>\n",
       "      <td>439.000000</td>\n",
       "      <td>-2.677884</td>\n",
       "      <td>-0.602658</td>\n",
       "      <td>-0.260694</td>\n",
       "      <td>3.143275</td>\n",
       "      <td>0.418809</td>\n",
       "      <td>-1.245684</td>\n",
       "      <td>-1.105907</td>\n",
       "      <td>0.661932</td>\n",
       "      <td>-1.520521</td>\n",
       "      <td>...</td>\n",
       "      <td>1.114625</td>\n",
       "      <td>0.589464</td>\n",
       "      <td>0.200214</td>\n",
       "      <td>0.455377</td>\n",
       "      <td>0.013198</td>\n",
       "      <td>0.162159</td>\n",
       "      <td>0.016239</td>\n",
       "      <td>0.004186</td>\n",
       "      <td>-0.053756</td>\n",
       "      <td>264.50000</td>\n",
       "    </tr>\n",
       "  </tbody>\n",
       "</table>\n",
       "<p>2 rows × 30 columns</p>\n",
       "</div>"
      ],
      "text/plain": [
       "             Time        V1        V2        V3        V4        V5        V6  \\\n",
       "Class                                                                           \n",
       "0      440.514919 -0.191290  0.240299  0.879805  0.245752 -0.028989  0.127834   \n",
       "1      439.000000 -2.677884 -0.602658 -0.260694  3.143275  0.418809 -1.245684   \n",
       "\n",
       "             V7        V8        V9  ...       V20       V21       V22  \\\n",
       "Class                                ...                                 \n",
       "0      0.105288 -0.070509  0.005240  ...  0.063227 -0.005717 -0.120199   \n",
       "1     -1.105907  0.661932 -1.520521  ...  1.114625  0.589464  0.200214   \n",
       "\n",
       "            V23       V24       V25       V26       V27       V28     Amount  \n",
       "Class                                                                         \n",
       "0     -0.046657  0.004919  0.116965  0.029516  0.014069 -0.015882   65.06451  \n",
       "1      0.455377  0.013198  0.162159  0.016239  0.004186 -0.053756  264.50000  \n",
       "\n",
       "[2 rows x 30 columns]"
      ]
     },
     "execution_count": 10,
     "metadata": {},
     "output_type": "execute_result"
    }
   ],
   "source": [
    "## Compare the values for both transaction on basic of mean\n",
    "\n",
    "data.groupby('Class').mean()"
   ]
  },
  {
   "cell_type": "markdown",
   "id": "80c1397c",
   "metadata": {},
   "source": [
    "#### Under - Sampling : (For imbalanced data)\n",
    "\n",
    "- Build a sample dataset containing similar distribution of Legit Transaction & Fraud Transaction. We are going to take 492 Random Transactions from Legit Transactions then we are going to join them with Fraud Transactions. We will have 492 Legit Transaction & 492 Fraud Transaction. It will have uniform distribution & give better predictions.\n",
    "\n",
    "- Fraud Transactions --> 492"
   ]
  },
  {
   "cell_type": "code",
   "execution_count": 11,
   "id": "79feee6e",
   "metadata": {},
   "outputs": [],
   "source": [
    "legit_sample = legit.sample(n = 492)"
   ]
  },
  {
   "cell_type": "markdown",
   "id": "5c742002",
   "metadata": {},
   "source": [
    "#### Concanating 2 DataFrames (Joining)"
   ]
  },
  {
   "cell_type": "code",
   "execution_count": 12,
   "id": "86d4de63",
   "metadata": {},
   "outputs": [
    {
     "data": {
      "text/html": [
       "<div>\n",
       "<style scoped>\n",
       "    .dataframe tbody tr th:only-of-type {\n",
       "        vertical-align: middle;\n",
       "    }\n",
       "\n",
       "    .dataframe tbody tr th {\n",
       "        vertical-align: top;\n",
       "    }\n",
       "\n",
       "    .dataframe thead th {\n",
       "        text-align: right;\n",
       "    }\n",
       "</style>\n",
       "<table border=\"1\" class=\"dataframe\">\n",
       "  <thead>\n",
       "    <tr style=\"text-align: right;\">\n",
       "      <th></th>\n",
       "      <th>Time</th>\n",
       "      <th>V1</th>\n",
       "      <th>V2</th>\n",
       "      <th>V3</th>\n",
       "      <th>V4</th>\n",
       "      <th>V5</th>\n",
       "      <th>V6</th>\n",
       "      <th>V7</th>\n",
       "      <th>V8</th>\n",
       "      <th>V9</th>\n",
       "      <th>...</th>\n",
       "      <th>V21</th>\n",
       "      <th>V22</th>\n",
       "      <th>V23</th>\n",
       "      <th>V24</th>\n",
       "      <th>V25</th>\n",
       "      <th>V26</th>\n",
       "      <th>V27</th>\n",
       "      <th>V28</th>\n",
       "      <th>Amount</th>\n",
       "      <th>Class</th>\n",
       "    </tr>\n",
       "  </thead>\n",
       "  <tbody>\n",
       "    <tr>\n",
       "      <th>772</th>\n",
       "      <td>581</td>\n",
       "      <td>1.153455</td>\n",
       "      <td>-0.414609</td>\n",
       "      <td>-0.356476</td>\n",
       "      <td>0.330125</td>\n",
       "      <td>-0.221110</td>\n",
       "      <td>-0.545366</td>\n",
       "      <td>0.296184</td>\n",
       "      <td>-0.339412</td>\n",
       "      <td>-1.355716</td>\n",
       "      <td>...</td>\n",
       "      <td>-0.675878</td>\n",
       "      <td>-1.776193</td>\n",
       "      <td>-0.045492</td>\n",
       "      <td>-0.529826</td>\n",
       "      <td>0.442843</td>\n",
       "      <td>-0.656075</td>\n",
       "      <td>0.002982</td>\n",
       "      <td>0.043879</td>\n",
       "      <td>145.56</td>\n",
       "      <td>0</td>\n",
       "    </tr>\n",
       "    <tr>\n",
       "      <th>524</th>\n",
       "      <td>388</td>\n",
       "      <td>0.199489</td>\n",
       "      <td>0.705636</td>\n",
       "      <td>1.398115</td>\n",
       "      <td>1.219647</td>\n",
       "      <td>0.149196</td>\n",
       "      <td>-0.698932</td>\n",
       "      <td>-0.551006</td>\n",
       "      <td>-0.872024</td>\n",
       "      <td>-0.370324</td>\n",
       "      <td>...</td>\n",
       "      <td>0.640890</td>\n",
       "      <td>-0.701341</td>\n",
       "      <td>-0.757939</td>\n",
       "      <td>0.639510</td>\n",
       "      <td>0.147696</td>\n",
       "      <td>-0.544986</td>\n",
       "      <td>0.274528</td>\n",
       "      <td>0.280555</td>\n",
       "      <td>9.99</td>\n",
       "      <td>0</td>\n",
       "    </tr>\n",
       "    <tr>\n",
       "      <th>758</th>\n",
       "      <td>569</td>\n",
       "      <td>-0.461788</td>\n",
       "      <td>0.443205</td>\n",
       "      <td>1.805630</td>\n",
       "      <td>-1.154090</td>\n",
       "      <td>0.159950</td>\n",
       "      <td>-0.472074</td>\n",
       "      <td>0.649425</td>\n",
       "      <td>-0.100823</td>\n",
       "      <td>-0.220588</td>\n",
       "      <td>...</td>\n",
       "      <td>-0.048765</td>\n",
       "      <td>-0.136351</td>\n",
       "      <td>-0.120306</td>\n",
       "      <td>0.013575</td>\n",
       "      <td>-0.455418</td>\n",
       "      <td>0.675958</td>\n",
       "      <td>-0.155641</td>\n",
       "      <td>-0.120386</td>\n",
       "      <td>15.25</td>\n",
       "      <td>0</td>\n",
       "    </tr>\n",
       "    <tr>\n",
       "      <th>126</th>\n",
       "      <td>79</td>\n",
       "      <td>-2.374380</td>\n",
       "      <td>0.597145</td>\n",
       "      <td>0.036656</td>\n",
       "      <td>-1.406989</td>\n",
       "      <td>0.299692</td>\n",
       "      <td>-0.341103</td>\n",
       "      <td>0.624572</td>\n",
       "      <td>0.369832</td>\n",
       "      <td>0.344458</td>\n",
       "      <td>...</td>\n",
       "      <td>-0.423323</td>\n",
       "      <td>-0.527400</td>\n",
       "      <td>0.162980</td>\n",
       "      <td>-0.894113</td>\n",
       "      <td>-0.087018</td>\n",
       "      <td>0.718174</td>\n",
       "      <td>-0.011363</td>\n",
       "      <td>-0.431914</td>\n",
       "      <td>80.00</td>\n",
       "      <td>0</td>\n",
       "    </tr>\n",
       "    <tr>\n",
       "      <th>440</th>\n",
       "      <td>317</td>\n",
       "      <td>-0.378489</td>\n",
       "      <td>0.532043</td>\n",
       "      <td>1.498352</td>\n",
       "      <td>-1.451159</td>\n",
       "      <td>0.245405</td>\n",
       "      <td>-0.648925</td>\n",
       "      <td>0.849375</td>\n",
       "      <td>-0.159859</td>\n",
       "      <td>-0.194442</td>\n",
       "      <td>...</td>\n",
       "      <td>-0.036825</td>\n",
       "      <td>-0.083855</td>\n",
       "      <td>-0.184519</td>\n",
       "      <td>0.032645</td>\n",
       "      <td>-0.396424</td>\n",
       "      <td>0.722854</td>\n",
       "      <td>-0.165667</td>\n",
       "      <td>-0.124331</td>\n",
       "      <td>7.69</td>\n",
       "      <td>0</td>\n",
       "    </tr>\n",
       "  </tbody>\n",
       "</table>\n",
       "<p>5 rows × 31 columns</p>\n",
       "</div>"
      ],
      "text/plain": [
       "     Time        V1        V2        V3        V4        V5        V6  \\\n",
       "772   581  1.153455 -0.414609 -0.356476  0.330125 -0.221110 -0.545366   \n",
       "524   388  0.199489  0.705636  1.398115  1.219647  0.149196 -0.698932   \n",
       "758   569 -0.461788  0.443205  1.805630 -1.154090  0.159950 -0.472074   \n",
       "126    79 -2.374380  0.597145  0.036656 -1.406989  0.299692 -0.341103   \n",
       "440   317 -0.378489  0.532043  1.498352 -1.451159  0.245405 -0.648925   \n",
       "\n",
       "           V7        V8        V9  ...       V21       V22       V23  \\\n",
       "772  0.296184 -0.339412 -1.355716  ... -0.675878 -1.776193 -0.045492   \n",
       "524 -0.551006 -0.872024 -0.370324  ...  0.640890 -0.701341 -0.757939   \n",
       "758  0.649425 -0.100823 -0.220588  ... -0.048765 -0.136351 -0.120306   \n",
       "126  0.624572  0.369832  0.344458  ... -0.423323 -0.527400  0.162980   \n",
       "440  0.849375 -0.159859 -0.194442  ... -0.036825 -0.083855 -0.184519   \n",
       "\n",
       "          V24       V25       V26       V27       V28  Amount  Class  \n",
       "772 -0.529826  0.442843 -0.656075  0.002982  0.043879  145.56      0  \n",
       "524  0.639510  0.147696 -0.544986  0.274528  0.280555    9.99      0  \n",
       "758  0.013575 -0.455418  0.675958 -0.155641 -0.120386   15.25      0  \n",
       "126 -0.894113 -0.087018  0.718174 -0.011363 -0.431914   80.00      0  \n",
       "440  0.032645 -0.396424  0.722854 -0.165667 -0.124331    7.69      0  \n",
       "\n",
       "[5 rows x 31 columns]"
      ]
     },
     "execution_count": 12,
     "metadata": {},
     "output_type": "execute_result"
    }
   ],
   "source": [
    "## Joining two dataframe and checking it\n",
    "new_data = pd.concat([legit_sample, fraud], axis = 0)\n",
    "new_data.head()"
   ]
  },
  {
   "cell_type": "code",
   "execution_count": 13,
   "id": "9e8af53b",
   "metadata": {},
   "outputs": [
    {
     "data": {
      "text/plain": [
       "0    492\n",
       "1      2\n",
       "Name: Class, dtype: int64"
      ]
     },
     "execution_count": 13,
     "metadata": {},
     "output_type": "execute_result"
    }
   ],
   "source": [
    "## Checking total values of data\n",
    "\n",
    "new_data['Class'].value_counts()"
   ]
  },
  {
   "cell_type": "code",
   "execution_count": 14,
   "id": "164bbc51",
   "metadata": {},
   "outputs": [
    {
     "data": {
      "text/html": [
       "<div>\n",
       "<style scoped>\n",
       "    .dataframe tbody tr th:only-of-type {\n",
       "        vertical-align: middle;\n",
       "    }\n",
       "\n",
       "    .dataframe tbody tr th {\n",
       "        vertical-align: top;\n",
       "    }\n",
       "\n",
       "    .dataframe thead th {\n",
       "        text-align: right;\n",
       "    }\n",
       "</style>\n",
       "<table border=\"1\" class=\"dataframe\">\n",
       "  <thead>\n",
       "    <tr style=\"text-align: right;\">\n",
       "      <th></th>\n",
       "      <th>Time</th>\n",
       "      <th>V1</th>\n",
       "      <th>V2</th>\n",
       "      <th>V3</th>\n",
       "      <th>V4</th>\n",
       "      <th>V5</th>\n",
       "      <th>V6</th>\n",
       "      <th>V7</th>\n",
       "      <th>V8</th>\n",
       "      <th>V9</th>\n",
       "      <th>...</th>\n",
       "      <th>V20</th>\n",
       "      <th>V21</th>\n",
       "      <th>V22</th>\n",
       "      <th>V23</th>\n",
       "      <th>V24</th>\n",
       "      <th>V25</th>\n",
       "      <th>V26</th>\n",
       "      <th>V27</th>\n",
       "      <th>V28</th>\n",
       "      <th>Amount</th>\n",
       "    </tr>\n",
       "    <tr>\n",
       "      <th>Class</th>\n",
       "      <th></th>\n",
       "      <th></th>\n",
       "      <th></th>\n",
       "      <th></th>\n",
       "      <th></th>\n",
       "      <th></th>\n",
       "      <th></th>\n",
       "      <th></th>\n",
       "      <th></th>\n",
       "      <th></th>\n",
       "      <th></th>\n",
       "      <th></th>\n",
       "      <th></th>\n",
       "      <th></th>\n",
       "      <th></th>\n",
       "      <th></th>\n",
       "      <th></th>\n",
       "      <th></th>\n",
       "      <th></th>\n",
       "      <th></th>\n",
       "      <th></th>\n",
       "    </tr>\n",
       "  </thead>\n",
       "  <tbody>\n",
       "    <tr>\n",
       "      <th>0</th>\n",
       "      <td>443.325203</td>\n",
       "      <td>-0.179694</td>\n",
       "      <td>0.299072</td>\n",
       "      <td>0.910251</td>\n",
       "      <td>0.236356</td>\n",
       "      <td>-0.067893</td>\n",
       "      <td>0.082125</td>\n",
       "      <td>0.085522</td>\n",
       "      <td>-0.107724</td>\n",
       "      <td>0.055768</td>\n",
       "      <td>...</td>\n",
       "      <td>0.059136</td>\n",
       "      <td>-0.014884</td>\n",
       "      <td>-0.121954</td>\n",
       "      <td>-0.037297</td>\n",
       "      <td>0.000472</td>\n",
       "      <td>0.122793</td>\n",
       "      <td>0.046709</td>\n",
       "      <td>0.016471</td>\n",
       "      <td>-0.026458</td>\n",
       "      <td>53.48878</td>\n",
       "    </tr>\n",
       "    <tr>\n",
       "      <th>1</th>\n",
       "      <td>439.000000</td>\n",
       "      <td>-2.677884</td>\n",
       "      <td>-0.602658</td>\n",
       "      <td>-0.260694</td>\n",
       "      <td>3.143275</td>\n",
       "      <td>0.418809</td>\n",
       "      <td>-1.245684</td>\n",
       "      <td>-1.105907</td>\n",
       "      <td>0.661932</td>\n",
       "      <td>-1.520521</td>\n",
       "      <td>...</td>\n",
       "      <td>1.114625</td>\n",
       "      <td>0.589464</td>\n",
       "      <td>0.200214</td>\n",
       "      <td>0.455377</td>\n",
       "      <td>0.013198</td>\n",
       "      <td>0.162159</td>\n",
       "      <td>0.016239</td>\n",
       "      <td>0.004186</td>\n",
       "      <td>-0.053756</td>\n",
       "      <td>264.50000</td>\n",
       "    </tr>\n",
       "  </tbody>\n",
       "</table>\n",
       "<p>2 rows × 30 columns</p>\n",
       "</div>"
      ],
      "text/plain": [
       "             Time        V1        V2        V3        V4        V5        V6  \\\n",
       "Class                                                                           \n",
       "0      443.325203 -0.179694  0.299072  0.910251  0.236356 -0.067893  0.082125   \n",
       "1      439.000000 -2.677884 -0.602658 -0.260694  3.143275  0.418809 -1.245684   \n",
       "\n",
       "             V7        V8        V9  ...       V20       V21       V22  \\\n",
       "Class                                ...                                 \n",
       "0      0.085522 -0.107724  0.055768  ...  0.059136 -0.014884 -0.121954   \n",
       "1     -1.105907  0.661932 -1.520521  ...  1.114625  0.589464  0.200214   \n",
       "\n",
       "            V23       V24       V25       V26       V27       V28     Amount  \n",
       "Class                                                                         \n",
       "0     -0.037297  0.000472  0.122793  0.046709  0.016471 -0.026458   53.48878  \n",
       "1      0.455377  0.013198  0.162159  0.016239  0.004186 -0.053756  264.50000  \n",
       "\n",
       "[2 rows x 30 columns]"
      ]
     },
     "execution_count": 14,
     "metadata": {},
     "output_type": "execute_result"
    }
   ],
   "source": [
    "## Checking whether we got a good sample or bad sample, in case if we got a bad sample then the mean values will be very different\n",
    "\n",
    "new_data.groupby('Class').mean()"
   ]
  },
  {
   "cell_type": "markdown",
   "id": "2a634ec2",
   "metadata": {},
   "source": [
    "#### From above distribution of class values by comparing with previous values we can say that nature of dataset have not changed  & the difference is still there & our model will predict with good accuracy"
   ]
  },
  {
   "cell_type": "markdown",
   "id": "6b4cf5c2",
   "metadata": {},
   "source": [
    "## Model Building :-"
   ]
  },
  {
   "cell_type": "markdown",
   "id": "4f8066a3",
   "metadata": {},
   "source": [
    "### Splitting the Data into Features & Target"
   ]
  },
  {
   "cell_type": "code",
   "execution_count": 15,
   "id": "c27cfae7",
   "metadata": {},
   "outputs": [],
   "source": [
    "## Assigning the values to x and y variable for model building\n",
    "x = new_data.drop(columns = 'Class', axis =1)\n",
    "y = new_data['Class']"
   ]
  },
  {
   "cell_type": "code",
   "execution_count": 16,
   "id": "21caecc9",
   "metadata": {},
   "outputs": [
    {
     "name": "stdout",
     "output_type": "stream",
     "text": [
      "      Time        V1        V2        V3        V4        V5        V6  \\\n",
      "772    581  1.153455 -0.414609 -0.356476  0.330125 -0.221110 -0.545366   \n",
      "524    388  0.199489  0.705636  1.398115  1.219647  0.149196 -0.698932   \n",
      "758    569 -0.461788  0.443205  1.805630 -1.154090  0.159950 -0.472074   \n",
      "126     79 -2.374380  0.597145  0.036656 -1.406989  0.299692 -0.341103   \n",
      "440    317 -0.378489  0.532043  1.498352 -1.451159  0.245405 -0.648925   \n",
      "...    ...       ...       ...       ...       ...       ...       ...   \n",
      "500    368 -0.409900  1.183088  1.598967  0.353088  0.309710 -0.312400   \n",
      "1157   904  1.177107 -0.877197  0.334957 -0.505469 -0.999292 -0.214331   \n",
      "581    433 -0.599759  1.383107  2.381261  2.686183  0.317047  0.801453   \n",
      "541    406 -2.312227  1.951992 -1.609851  3.997906 -0.522188 -1.426545   \n",
      "623    472 -3.043541 -3.157307  1.088463  2.288644  1.359805 -1.064823   \n",
      "\n",
      "            V7        V8        V9  ...       V20       V21       V22  \\\n",
      "772   0.296184 -0.339412 -1.355716  ... -0.196085 -0.675878 -1.776193   \n",
      "524  -0.551006 -0.872024 -0.370324  ... -0.203632  0.640890 -0.701341   \n",
      "758   0.649425 -0.100823 -0.220588  ...  0.005715 -0.048765 -0.136351   \n",
      "126   0.624572  0.369832  0.344458  ... -0.170734 -0.423323 -0.527400   \n",
      "440   0.849375 -0.159859 -0.194442  ... -0.088347 -0.036825 -0.083855   \n",
      "...        ...       ...       ...  ...       ...       ...       ...   \n",
      "500   0.707197 -0.043206 -0.892869  ...  0.117258 -0.163371 -0.396155   \n",
      "1157 -0.590595  0.085636 -0.684642  ...  0.098356  0.176109  0.429391   \n",
      "581   0.591630  0.000285 -1.259088  ...  0.415559 -0.268743 -0.388863   \n",
      "541  -2.537387  1.391657 -2.770089  ...  0.126911  0.517232 -0.035049   \n",
      "623   0.325574 -0.067794 -0.270953  ...  2.102339  0.661696  0.435477   \n",
      "\n",
      "           V23       V24       V25       V26       V27       V28  Amount  \n",
      "772  -0.045492 -0.529826  0.442843 -0.656075  0.002982  0.043879  145.56  \n",
      "524  -0.757939  0.639510  0.147696 -0.544986  0.274528  0.280555    9.99  \n",
      "758  -0.120306  0.013575 -0.455418  0.675958 -0.155641 -0.120386   15.25  \n",
      "126   0.162980 -0.894113 -0.087018  0.718174 -0.011363 -0.431914   80.00  \n",
      "440  -0.184519  0.032645 -0.396424  0.722854 -0.165667 -0.124331    7.69  \n",
      "...        ...       ...       ...       ...       ...       ...     ...  \n",
      "500  -0.069498  0.069735 -0.298407  0.199188  0.099692  0.118617    1.98  \n",
      "1157 -0.110342  0.250072  0.507079 -0.150358  0.001651  0.006636   75.13  \n",
      "581  -0.273141  0.006995  0.144277  0.081082  0.041199 -0.081265    5.31  \n",
      "541  -0.465211  0.320198  0.044519  0.177840  0.261145 -0.143276    0.00  \n",
      "623   1.375966 -0.293803  0.279798 -0.145362 -0.252773  0.035764  529.00  \n",
      "\n",
      "[494 rows x 30 columns]\n"
     ]
    }
   ],
   "source": [
    "print(x)"
   ]
  },
  {
   "cell_type": "code",
   "execution_count": 17,
   "id": "70708bde",
   "metadata": {},
   "outputs": [
    {
     "name": "stdout",
     "output_type": "stream",
     "text": [
      "772     0\n",
      "524     0\n",
      "758     0\n",
      "126     0\n",
      "440     0\n",
      "       ..\n",
      "500     0\n",
      "1157    0\n",
      "581     0\n",
      "541     1\n",
      "623     1\n",
      "Name: Class, Length: 494, dtype: int64\n"
     ]
    }
   ],
   "source": [
    "print(y)"
   ]
  },
  {
   "cell_type": "markdown",
   "id": "55695079",
   "metadata": {},
   "source": [
    "#### Splitting the Data into Train & Test"
   ]
  },
  {
   "cell_type": "code",
   "execution_count": 18,
   "id": "b9af7d66",
   "metadata": {},
   "outputs": [],
   "source": [
    "x_train, x_test, y_train, y_test = train_test_split(x, y, test_size = 0.2, stratify = y, random_state = 2)"
   ]
  },
  {
   "cell_type": "code",
   "execution_count": 19,
   "id": "a8c1ac0e",
   "metadata": {},
   "outputs": [
    {
     "name": "stdout",
     "output_type": "stream",
     "text": [
      "(494, 30) (395, 30) (99, 30)\n"
     ]
    }
   ],
   "source": [
    "print(x.shape, x_train.shape, x_test.shape)"
   ]
  },
  {
   "cell_type": "markdown",
   "id": "1af8349b",
   "metadata": {},
   "source": [
    "#### Model Training\n",
    "\n",
    "- Logistic Regression"
   ]
  },
  {
   "cell_type": "code",
   "execution_count": 20,
   "id": "b40dcda9",
   "metadata": {},
   "outputs": [
    {
     "name": "stderr",
     "output_type": "stream",
     "text": [
      "[Parallel(n_jobs=-1)]: Using backend LokyBackend with 12 concurrent workers.\n",
      "[Parallel(n_jobs=-1)]: Done   1 out of   1 | elapsed:    2.9s finished\n"
     ]
    },
    {
     "data": {
      "text/html": [
       "<style>#sk-container-id-1 {color: black;}#sk-container-id-1 pre{padding: 0;}#sk-container-id-1 div.sk-toggleable {background-color: white;}#sk-container-id-1 label.sk-toggleable__label {cursor: pointer;display: block;width: 100%;margin-bottom: 0;padding: 0.3em;box-sizing: border-box;text-align: center;}#sk-container-id-1 label.sk-toggleable__label-arrow:before {content: \"▸\";float: left;margin-right: 0.25em;color: #696969;}#sk-container-id-1 label.sk-toggleable__label-arrow:hover:before {color: black;}#sk-container-id-1 div.sk-estimator:hover label.sk-toggleable__label-arrow:before {color: black;}#sk-container-id-1 div.sk-toggleable__content {max-height: 0;max-width: 0;overflow: hidden;text-align: left;background-color: #f0f8ff;}#sk-container-id-1 div.sk-toggleable__content pre {margin: 0.2em;color: black;border-radius: 0.25em;background-color: #f0f8ff;}#sk-container-id-1 input.sk-toggleable__control:checked~div.sk-toggleable__content {max-height: 200px;max-width: 100%;overflow: auto;}#sk-container-id-1 input.sk-toggleable__control:checked~label.sk-toggleable__label-arrow:before {content: \"▾\";}#sk-container-id-1 div.sk-estimator input.sk-toggleable__control:checked~label.sk-toggleable__label {background-color: #d4ebff;}#sk-container-id-1 div.sk-label input.sk-toggleable__control:checked~label.sk-toggleable__label {background-color: #d4ebff;}#sk-container-id-1 input.sk-hidden--visually {border: 0;clip: rect(1px 1px 1px 1px);clip: rect(1px, 1px, 1px, 1px);height: 1px;margin: -1px;overflow: hidden;padding: 0;position: absolute;width: 1px;}#sk-container-id-1 div.sk-estimator {font-family: monospace;background-color: #f0f8ff;border: 1px dotted black;border-radius: 0.25em;box-sizing: border-box;margin-bottom: 0.5em;}#sk-container-id-1 div.sk-estimator:hover {background-color: #d4ebff;}#sk-container-id-1 div.sk-parallel-item::after {content: \"\";width: 100%;border-bottom: 1px solid gray;flex-grow: 1;}#sk-container-id-1 div.sk-label:hover label.sk-toggleable__label {background-color: #d4ebff;}#sk-container-id-1 div.sk-serial::before {content: \"\";position: absolute;border-left: 1px solid gray;box-sizing: border-box;top: 0;bottom: 0;left: 50%;z-index: 0;}#sk-container-id-1 div.sk-serial {display: flex;flex-direction: column;align-items: center;background-color: white;padding-right: 0.2em;padding-left: 0.2em;position: relative;}#sk-container-id-1 div.sk-item {position: relative;z-index: 1;}#sk-container-id-1 div.sk-parallel {display: flex;align-items: stretch;justify-content: center;background-color: white;position: relative;}#sk-container-id-1 div.sk-item::before, #sk-container-id-1 div.sk-parallel-item::before {content: \"\";position: absolute;border-left: 1px solid gray;box-sizing: border-box;top: 0;bottom: 0;left: 50%;z-index: -1;}#sk-container-id-1 div.sk-parallel-item {display: flex;flex-direction: column;z-index: 1;position: relative;background-color: white;}#sk-container-id-1 div.sk-parallel-item:first-child::after {align-self: flex-end;width: 50%;}#sk-container-id-1 div.sk-parallel-item:last-child::after {align-self: flex-start;width: 50%;}#sk-container-id-1 div.sk-parallel-item:only-child::after {width: 0;}#sk-container-id-1 div.sk-dashed-wrapped {border: 1px dashed gray;margin: 0 0.4em 0.5em 0.4em;box-sizing: border-box;padding-bottom: 0.4em;background-color: white;}#sk-container-id-1 div.sk-label label {font-family: monospace;font-weight: bold;display: inline-block;line-height: 1.2em;}#sk-container-id-1 div.sk-label-container {text-align: center;}#sk-container-id-1 div.sk-container {/* jupyter's `normalize.less` sets `[hidden] { display: none; }` but bootstrap.min.css set `[hidden] { display: none !important; }` so we also need the `!important` here to be able to override the default hidden behavior on the sphinx rendered scikit-learn.org. See: https://github.com/scikit-learn/scikit-learn/issues/21755 */display: inline-block !important;position: relative;}#sk-container-id-1 div.sk-text-repr-fallback {display: none;}</style><div id=\"sk-container-id-1\" class=\"sk-top-container\"><div class=\"sk-text-repr-fallback\"><pre>LogisticRegression(n_jobs=-1, random_state=42, verbose=2)</pre><b>In a Jupyter environment, please rerun this cell to show the HTML representation or trust the notebook. <br />On GitHub, the HTML representation is unable to render, please try loading this page with nbviewer.org.</b></div><div class=\"sk-container\" hidden><div class=\"sk-item\"><div class=\"sk-estimator sk-toggleable\"><input class=\"sk-toggleable__control sk-hidden--visually\" id=\"sk-estimator-id-1\" type=\"checkbox\" checked><label for=\"sk-estimator-id-1\" class=\"sk-toggleable__label sk-toggleable__label-arrow\">LogisticRegression</label><div class=\"sk-toggleable__content\"><pre>LogisticRegression(n_jobs=-1, random_state=42, verbose=2)</pre></div></div></div></div></div>"
      ],
      "text/plain": [
       "LogisticRegression(n_jobs=-1, random_state=42, verbose=2)"
      ]
     },
     "execution_count": 20,
     "metadata": {},
     "output_type": "execute_result"
    }
   ],
   "source": [
    "## Using the Logistic Regression Model\n",
    "model = LogisticRegression(penalty='l2',\n",
    "                            dual=False,\n",
    "                            tol=0.0001,\n",
    "                            C=1.0,\n",
    "                            fit_intercept=True,\n",
    "                            intercept_scaling=1,\n",
    "                            class_weight=None,\n",
    "                            random_state=42,\n",
    "                            solver='lbfgs',\n",
    "                            max_iter=100,\n",
    "                            multi_class='auto',\n",
    "                            verbose=2,\n",
    "                            warm_start=False,\n",
    "                            n_jobs=-1,\n",
    "                            l1_ratio=None)\n",
    "\n",
    "## Training the logistic regression model with train data\n",
    "model.fit(x_train, y_train)"
   ]
  },
  {
   "cell_type": "markdown",
   "id": "4e33ee9d",
   "metadata": {},
   "source": [
    "### Model Evaluation :- "
   ]
  },
  {
   "cell_type": "code",
   "execution_count": 21,
   "id": "5bfaa323",
   "metadata": {},
   "outputs": [
    {
     "name": "stdout",
     "output_type": "stream",
     "text": [
      "Accuracy Score on Training Data : 1.0\n"
     ]
    }
   ],
   "source": [
    "## Checking the Accuracy score on training data\n",
    "\n",
    "x_train_predict = model.predict(x_train)\n",
    "train_data_accuracy = accuracy_score(x_train_predict, y_train)\n",
    "print('Accuracy Score on Training Data :', train_data_accuracy)"
   ]
  },
  {
   "cell_type": "code",
   "execution_count": 22,
   "id": "8255fae8",
   "metadata": {},
   "outputs": [
    {
     "name": "stdout",
     "output_type": "stream",
     "text": [
      "Accuracy Score on Testing Data : 1.0\n"
     ]
    }
   ],
   "source": [
    "## Checking the Accuracy score on testing data\n",
    "\n",
    "x_test_predict = model.predict(x_test)\n",
    "test_data_accuracy = accuracy_score(x_test_predict, y_test)\n",
    "print('Accuracy Score on Testing Data :', test_data_accuracy)"
   ]
  },
  {
   "cell_type": "markdown",
   "id": "2d66bb61",
   "metadata": {},
   "source": [
    "## CONCLUSION :-\n",
    "\n",
    "#### Accuracy score of our model is very good & our model is not underfitted/overfitted. We can use this model for Prediction."
   ]
  },
  {
   "cell_type": "markdown",
   "id": "69e1b114",
   "metadata": {},
   "source": [
    "### Predictive System :-"
   ]
  },
  {
   "cell_type": "code",
   "execution_count": 23,
   "id": "ca79c8ba",
   "metadata": {},
   "outputs": [
    {
     "name": "stdout",
     "output_type": "stream",
     "text": [
      "[0]\n",
      "The Transaction is Legit\n"
     ]
    }
   ],
   "source": [
    "input_data = (1,-0.966271711572087,-0.185226008082898,1.79299333957872,-0.863291275036453,-0.0103088796030823,1.24720316752486,0.23760893977178,0.377435874652262,-1.38702406270197,-0.0549519224713749,-0.226487263835401,0.178228225877303,0.507756869957169,-0.28792374549456,-0.631418117709045,-1.0596472454325,-0.684092786345479,1.96577500349538,-1.2326219700892,-0.208037781160366,-0.108300452035545,0.00527359678253453,-0.190320518742841,-1.17557533186321,0.647376034602038,-0.221928844458407,0.0627228487293033,0.0614576285006353,123.5)\n",
    "\n",
    "# Changing the input data to numpy array\n",
    "input_data_as_numpy_array = np.asarray(input_data)\n",
    "\n",
    "# Reshaping the array for one sample\n",
    "input_data_reshape = input_data_as_numpy_array.reshape(1,-1)\n",
    "\n",
    "prediction = model.predict(input_data_reshape)\n",
    "print(prediction)\n",
    "\n",
    "if (prediction[0] == 0):\n",
    "    print('The Transaction is Legit')\n",
    "else:\n",
    "    print('The Transaction is Fraud')"
   ]
  },
  {
   "cell_type": "markdown",
   "id": "afd42290",
   "metadata": {},
   "source": [
    "### In this way we can conclude that the Transaction is Legit on the basic of our predictive Model."
   ]
  },
  {
   "cell_type": "markdown",
   "id": "5141e81a",
   "metadata": {},
   "source": [
    "                                 - - - - - - - - X X X X X X X X - - - - - - - -"
   ]
  }
 ],
 "metadata": {
  "kernelspec": {
   "display_name": "Python 3 (ipykernel)",
   "language": "python",
   "name": "python3"
  },
  "language_info": {
   "codemirror_mode": {
    "name": "ipython",
    "version": 3
   },
   "file_extension": ".py",
   "mimetype": "text/x-python",
   "name": "python",
   "nbconvert_exporter": "python",
   "pygments_lexer": "ipython3",
   "version": "3.11.4"
  }
 },
 "nbformat": 4,
 "nbformat_minor": 5
}
